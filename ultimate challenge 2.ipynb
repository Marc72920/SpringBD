{
 "cells": [
  {
   "cell_type": "markdown",
   "metadata": {},
   "source": [
    "### <center>THE ULTIMATE CHALLENGE</center>\n",
    "#### The Ultimate Challenge is a mini project, in which two datasets are comined to give an insight. The two datasets to use are the logins and Ultimate challenge."
   ]
  },
  {
   "cell_type": "code",
   "execution_count": 1,
   "metadata": {},
   "outputs": [],
   "source": [
    "# Useful python libraries to use for this processing\n",
    "import pandas as pd\n",
    "import numpy as np\n",
    "import json\n",
    "import datetime\n",
    "import seaborn as sns\n",
    "from matplotlib import pyplot as plt\n",
    "import matplotlib.dates as mdates\n",
    "%matplotlib inline\n",
    "plt.style.use('ggplot')"
   ]
  },
  {
   "cell_type": "code",
   "execution_count": 2,
   "metadata": {},
   "outputs": [
    {
     "data": {
      "text/html": [
       "<div>\n",
       "<style scoped>\n",
       "    .dataframe tbody tr th:only-of-type {\n",
       "        vertical-align: middle;\n",
       "    }\n",
       "\n",
       "    .dataframe tbody tr th {\n",
       "        vertical-align: top;\n",
       "    }\n",
       "\n",
       "    .dataframe thead th {\n",
       "        text-align: right;\n",
       "    }\n",
       "</style>\n",
       "<table border=\"1\" class=\"dataframe\">\n",
       "  <thead>\n",
       "    <tr style=\"text-align: right;\">\n",
       "      <th></th>\n",
       "      <th>login_time</th>\n",
       "    </tr>\n",
       "  </thead>\n",
       "  <tbody>\n",
       "    <tr>\n",
       "      <th>0</th>\n",
       "      <td>1970-01-01 20:13:18</td>\n",
       "    </tr>\n",
       "    <tr>\n",
       "      <th>1</th>\n",
       "      <td>1970-01-01 20:16:10</td>\n",
       "    </tr>\n",
       "    <tr>\n",
       "      <th>2</th>\n",
       "      <td>1970-01-01 20:16:37</td>\n",
       "    </tr>\n",
       "    <tr>\n",
       "      <th>3</th>\n",
       "      <td>1970-01-01 20:16:36</td>\n",
       "    </tr>\n",
       "    <tr>\n",
       "      <th>4</th>\n",
       "      <td>1970-01-01 20:26:21</td>\n",
       "    </tr>\n",
       "  </tbody>\n",
       "</table>\n",
       "</div>"
      ],
      "text/plain": [
       "            login_time\n",
       "0  1970-01-01 20:13:18\n",
       "1  1970-01-01 20:16:10\n",
       "2  1970-01-01 20:16:37\n",
       "3  1970-01-01 20:16:36\n",
       "4  1970-01-01 20:26:21"
      ]
     },
     "execution_count": 2,
     "metadata": {},
     "output_type": "execute_result"
    }
   ],
   "source": [
    "#  Importing, converting and logins json file.\n",
    "with open(\"/Users/owner/Desktop/logins.json\") as f:\n",
    "    data = json.load(f)\n",
    "data = pd.DataFrame(data)\n",
    "data.head()"
   ]
  },
  {
   "cell_type": "code",
   "execution_count": 3,
   "metadata": {},
   "outputs": [],
   "source": [
    "data['login_time'] = pd.to_datetime(data['login_time'])"
   ]
  },
  {
   "cell_type": "markdown",
   "metadata": {},
   "source": [
    "### Daily Logins Patterns"
   ]
  },
  {
   "cell_type": "code",
   "execution_count": 4,
   "metadata": {},
   "outputs": [
    {
     "data": {
      "text/html": [
       "<div>\n",
       "<style scoped>\n",
       "    .dataframe tbody tr th:only-of-type {\n",
       "        vertical-align: middle;\n",
       "    }\n",
       "\n",
       "    .dataframe tbody tr th {\n",
       "        vertical-align: top;\n",
       "    }\n",
       "\n",
       "    .dataframe thead th {\n",
       "        text-align: right;\n",
       "    }\n",
       "</style>\n",
       "<table border=\"1\" class=\"dataframe\">\n",
       "  <thead>\n",
       "    <tr style=\"text-align: right;\">\n",
       "      <th></th>\n",
       "      <th>data</th>\n",
       "    </tr>\n",
       "    <tr>\n",
       "      <th>login_time</th>\n",
       "      <th></th>\n",
       "    </tr>\n",
       "  </thead>\n",
       "  <tbody>\n",
       "    <tr>\n",
       "      <th>1970-01-01</th>\n",
       "      <td>112</td>\n",
       "    </tr>\n",
       "    <tr>\n",
       "      <th>1970-01-02</th>\n",
       "      <td>681</td>\n",
       "    </tr>\n",
       "    <tr>\n",
       "      <th>1970-01-03</th>\n",
       "      <td>793</td>\n",
       "    </tr>\n",
       "    <tr>\n",
       "      <th>1970-01-04</th>\n",
       "      <td>788</td>\n",
       "    </tr>\n",
       "    <tr>\n",
       "      <th>1970-01-05</th>\n",
       "      <td>459</td>\n",
       "    </tr>\n",
       "  </tbody>\n",
       "</table>\n",
       "</div>"
      ],
      "text/plain": [
       "            data\n",
       "login_time      \n",
       "1970-01-01   112\n",
       "1970-01-02   681\n",
       "1970-01-03   793\n",
       "1970-01-04   788\n",
       "1970-01-05   459"
      ]
     },
     "execution_count": 4,
     "metadata": {},
     "output_type": "execute_result"
    }
   ],
   "source": [
    "# Lets aggregate the data by date\n",
    "data = data.set_index('login_time')\n",
    "data['data'] = 1\n",
    "logins = data.resample('1D').sum()\n",
    "logins.head()"
   ]
  },
  {
   "cell_type": "code",
   "execution_count": 5,
   "metadata": {},
   "outputs": [
    {
     "name": "stdout",
     "output_type": "stream",
     "text": [
      "93142 Total Number of logins from 103 days\n"
     ]
    }
   ],
   "source": [
    "print('{} Total Number of logins from {} days'.format(logins.data.sum(), len(logins)))"
   ]
  },
  {
   "cell_type": "code",
   "execution_count": 6,
   "metadata": {},
   "outputs": [
    {
     "data": {
      "image/png": "[encoded data removed]",
      "text/plain": [
       "<Figure size 432x288 with 1 Axes>"
      ]
     },
     "metadata": {},
     "output_type": "display_data"
    }
   ],
   "source": [
    "# Show daily login patterns\n",
    "ax = plt.plot(logins)\n",
    "ax = plt.xticks(rotation = 90)\n",
    "ax = plt.xlabel('Date')\n",
    "ax = plt.ylabel('Daily Total Logins')"
   ]
  },
  {
   "cell_type": "code",
   "execution_count": 7,
   "metadata": {},
   "outputs": [
    {
     "data": {
      "image/png": "[encoded data removed]",
      "text/plain": [
       "<Figure size 432x288 with 1 Axes>"
      ]
     },
     "metadata": {},
     "output_type": "display_data"
    }
   ],
   "source": [
    "# Visualize the logins based on weekdays and weekend\n",
    "logins['weekend'] = logins.index.weekday >= 5\n",
    "ax=sns.swarmplot(x='weekend', y='data', data=logins)\n",
    "ax=plt.ylabel(\"Daily Total Logins\")"
   ]
  },
  {
   "cell_type": "code",
   "execution_count": 8,
   "metadata": {},
   "outputs": [
    {
     "name": "stdout",
     "output_type": "stream",
     "text": [
      "t = 8.46472731224942\tp = 2.113648536307778e-13\n"
     ]
    }
   ],
   "source": [
    "# Checking for any significant difference between weekday and weekend daily logins\n",
    "from scipy.stats import ttest_ind\n",
    "weekend = logins.loc[logins.weekend == True, 'data']\n",
    "weekday = logins.loc[logins.weekend == False, 'data']\n",
    "t,p = ttest_ind(weekend, weekday)\n",
    "print('t = {}\\tp = {}'.format(t,p))"
   ]
  },
  {
   "cell_type": "markdown",
   "metadata": {},
   "source": [
    "#### Above results show that the daily logins were more during the weekend than during the weekday.\n",
    "#### Next Hourly Patterns"
   ]
  },
  {
   "cell_type": "code",
   "execution_count": 9,
   "metadata": {},
   "outputs": [],
   "source": [
    "# Differentiating weekdays and weekends\n",
    "weekday = data.loc[data.index.weekday<5]\n",
    "weekend = data.loc[data.index.weekday>=5]\n",
    "\n",
    "#sum for every 15mins intervals\n",
    "weekday = weekday.resample('15T').sum()\n",
    "weekend = weekend.resample('15T').sum()\n",
    "\n",
    "# Determine the average of logins per time frame\n",
    "weekday['time']= weekday.index.time\n",
    "weekend['time']= weekend.index.time\n",
    "\n",
    "# Groupby time\n",
    "weekday = weekday.groupby('time')['data'].mean()\n",
    "weekend = weekend.groupby('time')['data'].mean()"
   ]
  },
  {
   "cell_type": "code",
   "execution_count": 10,
   "metadata": {},
   "outputs": [
    {
     "data": {
      "image/png": "[encoded data removed]",
      "text/plain": [
       "<Figure size 432x288 with 1 Axes>"
      ]
     },
     "metadata": {},
     "output_type": "display_data"
    }
   ],
   "source": [
    "# Lets visualize the logins for every 15mins\n",
    "logins = data.resample('15T').sum()\n",
    "logins['time'] = logins.index.time\n",
    "logins['time'] = logins['time'].astype('category')\n",
    "logins['weekend'] = logins.index.weekday >=5\n",
    "logins.head()\n",
    "ax = sns.lineplot(x = 'time', y = 'data', hue = 'weekend', data = logins)\n",
    "ax = plt.xticks(['00:00:00', '06:00:00', '12:00:00','18:00:00'], ['Midnight', '6AM', 'Noon','6PM'])\n",
    "ax = plt.xlabel('Time')\n",
    "ax = plt.ylabel('Average logins per 15mins')\n",
    "ax = plt.legend(['Weekdays', 'Weekends'])"
   ]
  },
  {
   "cell_type": "markdown",
   "metadata": {},
   "source": [
    "### Ultimate Challenge Modelling"
   ]
  },
  {
   "cell_type": "code",
   "execution_count": 11,
   "metadata": {},
   "outputs": [
    {
     "data": {
      "text/html": [
       "<div>\n",
       "<style scoped>\n",
       "    .dataframe tbody tr th:only-of-type {\n",
       "        vertical-align: middle;\n",
       "    }\n",
       "\n",
       "    .dataframe tbody tr th {\n",
       "        vertical-align: top;\n",
       "    }\n",
       "\n",
       "    .dataframe thead th {\n",
       "        text-align: right;\n",
       "    }\n",
       "</style>\n",
       "<table border=\"1\" class=\"dataframe\">\n",
       "  <thead>\n",
       "    <tr style=\"text-align: right;\">\n",
       "      <th></th>\n",
       "      <th>city</th>\n",
       "      <th>trips_in_first_30_days</th>\n",
       "      <th>signup_date</th>\n",
       "      <th>avg_rating_of_driver</th>\n",
       "      <th>avg_surge</th>\n",
       "      <th>last_trip_date</th>\n",
       "      <th>phone</th>\n",
       "      <th>surge_pct</th>\n",
       "      <th>ultimate_black_user</th>\n",
       "      <th>weekday_pct</th>\n",
       "      <th>avg_dist</th>\n",
       "      <th>avg_rating_by_driver</th>\n",
       "    </tr>\n",
       "  </thead>\n",
       "  <tbody>\n",
       "    <tr>\n",
       "      <th>0</th>\n",
       "      <td>King's Landing</td>\n",
       "      <td>4</td>\n",
       "      <td>2014-01-25</td>\n",
       "      <td>4.7</td>\n",
       "      <td>1.10</td>\n",
       "      <td>2014-06-17</td>\n",
       "      <td>iPhone</td>\n",
       "      <td>15.4</td>\n",
       "      <td>True</td>\n",
       "      <td>46.2</td>\n",
       "      <td>3.67</td>\n",
       "      <td>5.0</td>\n",
       "    </tr>\n",
       "    <tr>\n",
       "      <th>1</th>\n",
       "      <td>Astapor</td>\n",
       "      <td>0</td>\n",
       "      <td>2014-01-29</td>\n",
       "      <td>5.0</td>\n",
       "      <td>1.00</td>\n",
       "      <td>2014-05-05</td>\n",
       "      <td>Android</td>\n",
       "      <td>0.0</td>\n",
       "      <td>False</td>\n",
       "      <td>50.0</td>\n",
       "      <td>8.26</td>\n",
       "      <td>5.0</td>\n",
       "    </tr>\n",
       "    <tr>\n",
       "      <th>2</th>\n",
       "      <td>Astapor</td>\n",
       "      <td>3</td>\n",
       "      <td>2014-01-06</td>\n",
       "      <td>4.3</td>\n",
       "      <td>1.00</td>\n",
       "      <td>2014-01-07</td>\n",
       "      <td>iPhone</td>\n",
       "      <td>0.0</td>\n",
       "      <td>False</td>\n",
       "      <td>100.0</td>\n",
       "      <td>0.77</td>\n",
       "      <td>5.0</td>\n",
       "    </tr>\n",
       "    <tr>\n",
       "      <th>3</th>\n",
       "      <td>King's Landing</td>\n",
       "      <td>9</td>\n",
       "      <td>2014-01-10</td>\n",
       "      <td>4.6</td>\n",
       "      <td>1.14</td>\n",
       "      <td>2014-06-29</td>\n",
       "      <td>iPhone</td>\n",
       "      <td>20.0</td>\n",
       "      <td>True</td>\n",
       "      <td>80.0</td>\n",
       "      <td>2.36</td>\n",
       "      <td>4.9</td>\n",
       "    </tr>\n",
       "    <tr>\n",
       "      <th>4</th>\n",
       "      <td>Winterfell</td>\n",
       "      <td>14</td>\n",
       "      <td>2014-01-27</td>\n",
       "      <td>4.4</td>\n",
       "      <td>1.19</td>\n",
       "      <td>2014-03-15</td>\n",
       "      <td>Android</td>\n",
       "      <td>11.8</td>\n",
       "      <td>False</td>\n",
       "      <td>82.4</td>\n",
       "      <td>3.13</td>\n",
       "      <td>4.9</td>\n",
       "    </tr>\n",
       "  </tbody>\n",
       "</table>\n",
       "</div>"
      ],
      "text/plain": [
       "             city  trips_in_first_30_days signup_date  avg_rating_of_driver  \\\n",
       "0  King's Landing                       4  2014-01-25                   4.7   \n",
       "1         Astapor                       0  2014-01-29                   5.0   \n",
       "2         Astapor                       3  2014-01-06                   4.3   \n",
       "3  King's Landing                       9  2014-01-10                   4.6   \n",
       "4      Winterfell                      14  2014-01-27                   4.4   \n",
       "\n",
       "   avg_surge last_trip_date    phone  surge_pct  ultimate_black_user  \\\n",
       "0       1.10     2014-06-17   iPhone       15.4                 True   \n",
       "1       1.00     2014-05-05  Android        0.0                False   \n",
       "2       1.00     2014-01-07   iPhone        0.0                False   \n",
       "3       1.14     2014-06-29   iPhone       20.0                 True   \n",
       "4       1.19     2014-03-15  Android       11.8                False   \n",
       "\n",
       "   weekday_pct  avg_dist  avg_rating_by_driver  \n",
       "0         46.2      3.67                   5.0  \n",
       "1         50.0      8.26                   5.0  \n",
       "2        100.0      0.77                   5.0  \n",
       "3         80.0      2.36                   4.9  \n",
       "4         82.4      3.13                   4.9  "
      ]
     },
     "execution_count": 11,
     "metadata": {},
     "output_type": "execute_result"
    }
   ],
   "source": [
    "# Importing, converting and viewing ultimate challenge json file.\n",
    "with open('/Users/owner/Desktop/ultimate_data_challenge.json') as f:\n",
    "    ultimate = json.load(f)\n",
    "ultimate = pd.DataFrame(ultimate)\n",
    "ultimate.head()"
   ]
  },
  {
   "cell_type": "code",
   "execution_count": 12,
   "metadata": {},
   "outputs": [
    {
     "name": "stdout",
     "output_type": "stream",
     "text": [
      "Range of sign up dates is between 2014-01-01 00:00:00 and 2014-01-31 00:00:00\n"
     ]
    }
   ],
   "source": [
    "# We convert date columns to datetime\n",
    "ultimate['last_trip_date'] = pd.to_datetime(ultimate['last_trip_date'])\n",
    "ultimate['signup_date'] = pd.to_datetime(ultimate['signup_date'])\n",
    "print('Range of sign up dates is between {} and {}'\n",
    "     .format(ultimate['signup_date'].min(), ultimate['signup_date'].max()))"
   ]
  },
  {
   "cell_type": "code",
   "execution_count": 13,
   "metadata": {},
   "outputs": [
    {
     "name": "stdout",
     "output_type": "stream",
     "text": [
      "Out of 50000 users, 18804 were still active in their 6th month.\n"
     ]
    }
   ],
   "source": [
    "# Calculate if a user is active in the 6th month.\n",
    "ultimate['active'] = ultimate['last_trip_date']>=pd.to_datetime('2014-06-01')\n",
    "# Drop dates columns that won't be used again.\n",
    "ultimate.drop(['last_trip_date', 'signup_date'], axis=1, inplace=True)\n",
    "# Convert boolean columns into int.\n",
    "ultimate['ultimate_black_user'] = ultimate['ultimate_black_user'].astype(int)\n",
    "ultimate['active'] = ultimate['active'].astype(int)\n",
    "# See how many users were retained.\n",
    "print('Out of {} users, {} were still active in their 6th month.'\n",
    "     .format(len(ultimate), ultimate['active'].sum()))"
   ]
  },
  {
   "cell_type": "markdown",
   "metadata": {},
   "source": [
    "### Exploratory data analysis"
   ]
  },
  {
   "cell_type": "code",
   "execution_count": 14,
   "metadata": {},
   "outputs": [
    {
     "data": {
      "text/plain": [
       "trips_in_first_30_days    0.210463\n",
       "avg_rating_of_driver     -0.011653\n",
       "avg_surge                -0.003333\n",
       "surge_pct                 0.011797\n",
       "ultimate_black_user       0.205002\n",
       "weekday_pct               0.009693\n",
       "avg_dist                 -0.092780\n",
       "avg_rating_by_driver     -0.026791\n",
       "active                    1.000000\n",
       "Name: active, dtype: float64"
      ]
     },
     "execution_count": 14,
     "metadata": {},
     "output_type": "execute_result"
    }
   ],
   "source": [
    "# Determine which attributes have strrongest correlaion with retention\n",
    "ultimate.corr()['active']"
   ]
  },
  {
   "cell_type": "code",
   "execution_count": 15,
   "metadata": {},
   "outputs": [
    {
     "data": {
      "image/png": "[encoded data removed]",
      "text/plain": [
       "<Figure size 432x288 with 1 Axes>"
      ]
     },
     "metadata": {},
     "output_type": "display_data"
    }
   ],
   "source": [
    "# Visual representation.\n",
    "active = ultimate.loc[ultimate.active==1]\n",
    "non_active = ultimate.loc[ultimate.active==0]\n",
    "_ = plt.hist(active['trips_in_first_30_days'], bins=50, alpha=0.5, label='Active')\n",
    "_ = plt.hist(non_active['trips_in_first_30_days'], bins=50, alpha=0.5, label='Non Active')\n",
    "_ = plt.xlabel('Trips in first 30 days')\n",
    "_ = plt.ylabel('No. of users')\n",
    "_ = plt.xlim([0,80])\n",
    "_ = plt.yscale('log')\n",
    "_ = plt.legend()"
   ]
  },
  {
   "cell_type": "code",
   "execution_count": 16,
   "metadata": {},
   "outputs": [
    {
     "data": {
      "image/png": "[encoded data removed]",
      "text/plain": [
       "<Figure size 432x288 with 1 Axes>"
      ]
     },
     "metadata": {},
     "output_type": "display_data"
    }
   ],
   "source": [
    "# Active ultimate_black_user\n",
    "ax = sns.countplot(x='ultimate_black_user', hue='active', data=ultimate)\n",
    "ax = plt.legend(['Non Active', 'Active'])\n",
    "ax = plt.ylabel('No. of users')\n",
    "ax = plt.xticks([0,1],['No','Yes'])"
   ]
  },
  {
   "cell_type": "code",
   "execution_count": 17,
   "metadata": {},
   "outputs": [
    {
     "name": "stdout",
     "output_type": "stream",
     "text": [
      "chi2 = 2100.4182024974366\tp = 0.0\n"
     ]
    }
   ],
   "source": [
    "# Chi-square test\n",
    "from scipy.stats import chi2_contingency\n",
    "crosstab = pd.crosstab(ultimate['ultimate_black_user'], ultimate['active'])\n",
    "results = chi2_contingency(crosstab)\n",
    "print('chi2 = {}\\tp = {}'.format(results[0], results[1]))"
   ]
  },
  {
   "cell_type": "code",
   "execution_count": 18,
   "metadata": {},
   "outputs": [
    {
     "data": {
      "image/png": "[encoded data removed]",
      "text/plain": [
       "<Figure size 432x288 with 1 Axes>"
      ]
     },
     "metadata": {},
     "output_type": "display_data"
    }
   ],
   "source": [
    "# Visualize the two categorical features, city and phone\n",
    "ax = sns.countplot(x='city', hue='active', data=ultimate)\n",
    "ax = plt.legend(['Non Active', 'Active'], bbox_to_anchor=(1,1))\n",
    "ax = plt.ylabel('No. of users')"
   ]
  },
  {
   "cell_type": "code",
   "execution_count": 19,
   "metadata": {},
   "outputs": [
    {
     "name": "stdout",
     "output_type": "stream",
     "text": [
      "chi2 = 3821.5510225559638\tp = 0.0\n"
     ]
    }
   ],
   "source": [
    "# Chi-square test\n",
    "from scipy.stats import chi2_contingency\n",
    "crosstab = pd.crosstab(ultimate['city'], ultimate['active'])\n",
    "results = chi2_contingency(crosstab)\n",
    "print('chi2 = {}\\tp = {}'.format(results[0], results[1]))"
   ]
  },
  {
   "cell_type": "code",
   "execution_count": 20,
   "metadata": {},
   "outputs": [
    {
     "data": {
      "image/png": "[encoded data removed]",
      "text/plain": [
       "<Figure size 432x288 with 1 Axes>"
      ]
     },
     "metadata": {},
     "output_type": "display_data"
    }
   ],
   "source": [
    "# Phone feature\n",
    "ax = sns.countplot(x='phone', hue='active', data=ultimate)\n",
    "ax = plt.legend(['Non Active', 'Active'])\n",
    "ax = plt.ylabel('No. of users')"
   ]
  },
  {
   "cell_type": "code",
   "execution_count": 21,
   "metadata": {},
   "outputs": [
    {
     "name": "stdout",
     "output_type": "stream",
     "text": [
      "chi2 = 2558.3942122674252\tp = 0.0\n"
     ]
    }
   ],
   "source": [
    "# Chi-square test\n",
    "from scipy.stats import chi2_contingency\n",
    "crosstab = pd.crosstab(ultimate['phone'], ultimate['active'])\n",
    "results = chi2_contingency(crosstab)\n",
    "print('chi2 = {}\\tp = {}'.format(results[0], results[1]))"
   ]
  },
  {
   "cell_type": "markdown",
   "metadata": {},
   "source": [
    "### data wrangling and preprocessing"
   ]
  },
  {
   "cell_type": "code",
   "execution_count": 22,
   "metadata": {},
   "outputs": [
    {
     "name": "stdout",
     "output_type": "stream",
     "text": [
      "<class 'pandas.core.frame.DataFrame'>\n",
      "RangeIndex: 50000 entries, 0 to 49999\n",
      "Data columns (total 11 columns):\n",
      " #   Column                  Non-Null Count  Dtype  \n",
      "---  ------                  --------------  -----  \n",
      " 0   city                    50000 non-null  object \n",
      " 1   trips_in_first_30_days  50000 non-null  int64  \n",
      " 2   avg_rating_of_driver    41878 non-null  float64\n",
      " 3   avg_surge               50000 non-null  float64\n",
      " 4   phone                   49604 non-null  object \n",
      " 5   surge_pct               50000 non-null  float64\n",
      " 6   ultimate_black_user     50000 non-null  int32  \n",
      " 7   weekday_pct             50000 non-null  float64\n",
      " 8   avg_dist                50000 non-null  float64\n",
      " 9   avg_rating_by_driver    49799 non-null  float64\n",
      " 10  active                  50000 non-null  int32  \n",
      "dtypes: float64(6), int32(2), int64(1), object(2)\n",
      "memory usage: 3.8+ MB\n"
     ]
    },
    {
     "data": {
      "text/plain": [
       "(None,\n",
       "        trips_in_first_30_days  avg_rating_of_driver     avg_surge  \\\n",
       " count            50000.000000          41878.000000  50000.000000   \n",
       " mean                 2.278200              4.601559      1.074764   \n",
       " std                  3.792684              0.617338      0.222336   \n",
       " min                  0.000000              1.000000      1.000000   \n",
       " 25%                  0.000000              4.300000      1.000000   \n",
       " 50%                  1.000000              4.900000      1.000000   \n",
       " 75%                  3.000000              5.000000      1.050000   \n",
       " max                125.000000              5.000000      8.000000   \n",
       " \n",
       "           surge_pct  ultimate_black_user   weekday_pct      avg_dist  \\\n",
       " count  50000.000000          50000.00000  50000.000000  50000.000000   \n",
       " mean       8.849536              0.37708     60.926084      5.796827   \n",
       " std       19.958811              0.48466     37.081503      5.707357   \n",
       " min        0.000000              0.00000      0.000000      0.000000   \n",
       " 25%        0.000000              0.00000     33.300000      2.420000   \n",
       " 50%        0.000000              0.00000     66.700000      3.880000   \n",
       " 75%        8.600000              1.00000    100.000000      6.940000   \n",
       " max      100.000000              1.00000    100.000000    160.960000   \n",
       " \n",
       "        avg_rating_by_driver        active  \n",
       " count          49799.000000  50000.000000  \n",
       " mean               4.778158      0.376080  \n",
       " std                0.446652      0.484405  \n",
       " min                1.000000      0.000000  \n",
       " 25%                4.700000      0.000000  \n",
       " 50%                5.000000      0.000000  \n",
       " 75%                5.000000      1.000000  \n",
       " max                5.000000      1.000000  )"
      ]
     },
     "execution_count": 22,
     "metadata": {},
     "output_type": "execute_result"
    }
   ],
   "source": [
    "ultimate.info(), ultimate.describe()"
   ]
  },
  {
   "cell_type": "code",
   "execution_count": 23,
   "metadata": {},
   "outputs": [],
   "source": [
    "# Impute ratings with median.\n",
    "ultimate.fillna({'avg_rating_by_driver':ultimate['avg_rating_by_driver'].median()}, inplace=True)\n",
    "ultimate.fillna({'avg_rating_of_driver':ultimate['avg_rating_of_driver'].median()}, inplace=True)\n",
    "# Cannot impute phone types, drop those rows instead.\n",
    "ultimate.dropna(inplace=True)"
   ]
  },
  {
   "cell_type": "code",
   "execution_count": 24,
   "metadata": {},
   "outputs": [
    {
     "data": {
      "text/html": [
       "<div>\n",
       "<style scoped>\n",
       "    .dataframe tbody tr th:only-of-type {\n",
       "        vertical-align: middle;\n",
       "    }\n",
       "\n",
       "    .dataframe tbody tr th {\n",
       "        vertical-align: top;\n",
       "    }\n",
       "\n",
       "    .dataframe thead th {\n",
       "        text-align: right;\n",
       "    }\n",
       "</style>\n",
       "<table border=\"1\" class=\"dataframe\">\n",
       "  <thead>\n",
       "    <tr style=\"text-align: right;\">\n",
       "      <th></th>\n",
       "      <th>trips_in_first_30_days</th>\n",
       "      <th>avg_rating_of_driver</th>\n",
       "      <th>avg_surge</th>\n",
       "      <th>surge_pct</th>\n",
       "      <th>ultimate_black_user</th>\n",
       "      <th>weekday_pct</th>\n",
       "      <th>avg_dist</th>\n",
       "      <th>avg_rating_by_driver</th>\n",
       "      <th>iphone</th>\n",
       "      <th>King's Landing</th>\n",
       "      <th>Winterfell</th>\n",
       "    </tr>\n",
       "  </thead>\n",
       "  <tbody>\n",
       "    <tr>\n",
       "      <th>0</th>\n",
       "      <td>0.454159</td>\n",
       "      <td>0.087233</td>\n",
       "      <td>0.112318</td>\n",
       "      <td>0.326417</td>\n",
       "      <td>1.290412</td>\n",
       "      <td>-0.395941</td>\n",
       "      <td>-0.373113</td>\n",
       "      <td>0.495597</td>\n",
       "      <td>0.659081</td>\n",
       "      <td>1.981887</td>\n",
       "      <td>-0.934523</td>\n",
       "    </tr>\n",
       "    <tr>\n",
       "      <th>1</th>\n",
       "      <td>-0.600342</td>\n",
       "      <td>0.608234</td>\n",
       "      <td>-0.336789</td>\n",
       "      <td>-0.444014</td>\n",
       "      <td>-0.774946</td>\n",
       "      <td>-0.293477</td>\n",
       "      <td>0.436461</td>\n",
       "      <td>0.495597</td>\n",
       "      <td>-1.517264</td>\n",
       "      <td>-0.504570</td>\n",
       "      <td>-0.934523</td>\n",
       "    </tr>\n",
       "    <tr>\n",
       "      <th>2</th>\n",
       "      <td>0.190534</td>\n",
       "      <td>-0.607435</td>\n",
       "      <td>-0.336789</td>\n",
       "      <td>-0.444014</td>\n",
       "      <td>-0.774946</td>\n",
       "      <td>1.054746</td>\n",
       "      <td>-0.884608</td>\n",
       "      <td>0.495597</td>\n",
       "      <td>0.659081</td>\n",
       "      <td>-0.504570</td>\n",
       "      <td>-0.934523</td>\n",
       "    </tr>\n",
       "    <tr>\n",
       "      <th>3</th>\n",
       "      <td>1.772286</td>\n",
       "      <td>-0.086434</td>\n",
       "      <td>0.291961</td>\n",
       "      <td>0.556545</td>\n",
       "      <td>1.290412</td>\n",
       "      <td>0.515457</td>\n",
       "      <td>-0.604167</td>\n",
       "      <td>0.271601</td>\n",
       "      <td>0.659081</td>\n",
       "      <td>1.981887</td>\n",
       "      <td>-0.934523</td>\n",
       "    </tr>\n",
       "    <tr>\n",
       "      <th>4</th>\n",
       "      <td>3.090412</td>\n",
       "      <td>-0.433768</td>\n",
       "      <td>0.516515</td>\n",
       "      <td>0.146316</td>\n",
       "      <td>-0.774946</td>\n",
       "      <td>0.580172</td>\n",
       "      <td>-0.468357</td>\n",
       "      <td>0.271601</td>\n",
       "      <td>-1.517264</td>\n",
       "      <td>-0.504570</td>\n",
       "      <td>1.070064</td>\n",
       "    </tr>\n",
       "  </tbody>\n",
       "</table>\n",
       "</div>"
      ],
      "text/plain": [
       "   trips_in_first_30_days  avg_rating_of_driver  avg_surge  surge_pct  \\\n",
       "0                0.454159              0.087233   0.112318   0.326417   \n",
       "1               -0.600342              0.608234  -0.336789  -0.444014   \n",
       "2                0.190534             -0.607435  -0.336789  -0.444014   \n",
       "3                1.772286             -0.086434   0.291961   0.556545   \n",
       "4                3.090412             -0.433768   0.516515   0.146316   \n",
       "\n",
       "   ultimate_black_user  weekday_pct  avg_dist  avg_rating_by_driver    iphone  \\\n",
       "0             1.290412    -0.395941 -0.373113              0.495597  0.659081   \n",
       "1            -0.774946    -0.293477  0.436461              0.495597 -1.517264   \n",
       "2            -0.774946     1.054746 -0.884608              0.495597  0.659081   \n",
       "3             1.290412     0.515457 -0.604167              0.271601  0.659081   \n",
       "4            -0.774946     0.580172 -0.468357              0.271601 -1.517264   \n",
       "\n",
       "   King's Landing  Winterfell  \n",
       "0        1.981887   -0.934523  \n",
       "1       -0.504570   -0.934523  \n",
       "2       -0.504570   -0.934523  \n",
       "3        1.981887   -0.934523  \n",
       "4       -0.504570    1.070064  "
      ]
     },
     "execution_count": 24,
     "metadata": {},
     "output_type": "execute_result"
    }
   ],
   "source": [
    "# Separate the target data\n",
    "target = ultimate['active']\n",
    "ultimate.drop('active', axis=1, inplace=True)\n",
    "# Transform categorical data into dummy variables\n",
    "ultimate['iphone'] = pd.get_dummies(ultimate['phone'], drop_first=True)\n",
    "ultimate.drop('phone', axis=1, inplace=True)\n",
    "ultimate = pd.concat([ultimate, pd.get_dummies(ultimate['city'], drop_first=True)], axis=1)\n",
    "ultimate.drop('city', axis=1, inplace=True)\n",
    "# Sclae the features\n",
    "from sklearn.preprocessing import scale\n",
    "scaled_ultimate = pd.DataFrame(scale(ultimate))\n",
    "scaled_ultimate.columns = ultimate.columns\n",
    "scaled_ultimate.head()"
   ]
  },
  {
   "cell_type": "code",
   "execution_count": 25,
   "metadata": {},
   "outputs": [],
   "source": [
    "# Split training and testing datasets\n",
    "from sklearn.model_selection import train_test_split\n",
    "X_train, X_test, y_train, y_test = train_test_split(scaled_ultimate, target, random_state=42)"
   ]
  },
  {
   "cell_type": "markdown",
   "metadata": {},
   "source": [
    "### Random Forest Classifier"
   ]
  },
  {
   "cell_type": "code",
   "execution_count": 26,
   "metadata": {},
   "outputs": [],
   "source": [
    "# RANDOM FOREST CLASSIFIER\n",
    "# INSTANTIATE THE RANDOM FOREST CLASSIFIER\n",
    "from sklearn.datasets import make_classification\n",
    "from sklearn.model_selection import GridSearchCV\n",
    "from sklearn.model_selection import KFold\n",
    "    \n",
    "from sklearn.metrics import confusion_matrix, accuracy_score \n",
    "from sklearn.metrics import f1_score, precision_score, recall_score, fbeta_score\n",
    "from sklearn.model_selection import cross_val_score\n",
    "from sklearn import feature_selection\n",
    "from sklearn import model_selection\n",
    "from sklearn import metrics\n",
    "from sklearn.metrics import classification_report, precision_recall_curve\n",
    "from sklearn.metrics import auc, roc_auc_score, roc_curve\n",
    "X,y = make_classification(n_samples = 1000, n_features = 4,\n",
    "                         n_informative = 2, n_redundant = 0,\n",
    "                         random_state = 0, shuffle = False)"
   ]
  },
  {
   "cell_type": "code",
   "execution_count": 27,
   "metadata": {},
   "outputs": [],
   "source": [
    "# USING xgboost Classifier\n",
    "import warnings\n",
    "warnings.filterwarnings('ignore')\n",
    "pd.set_option('max_columns', None)\n",
    "from xgboost import XGBClassifier\n",
    "from sklearn.model_selection import GridSearchCV\n",
    "params = {'objective': 'binary:hinge', 'missing': 1, 'seed': 42\n",
    "         }"
   ]
  },
  {
   "cell_type": "code",
   "execution_count": 28,
   "metadata": {},
   "outputs": [],
   "source": [
    "# Instantiate the XGBOOST Classifier\n",
    "clf = XGBClassifier(**params)\n",
    "clf.fit(X_train, y_train)\n",
    "\n",
    "# Prediction with the XGBoost Classifier\n",
    "y_pred = clf.predict(X_test)\n",
    "predictions = [round(value) for value in y_pred]"
   ]
  },
  {
   "cell_type": "code",
   "execution_count": 29,
   "metadata": {},
   "outputs": [
    {
     "name": "stdout",
     "output_type": "stream",
     "text": [
      "TRAINING SET ACCURACY:  0.811\n",
      "TEST SET ACCURACY:  0.786\n"
     ]
    }
   ],
   "source": [
    "score = clf.score(X_train, y_train)\n",
    "score_a = clf.score(X_test, y_test)\n",
    "print(\"TRAINING SET ACCURACY: \", '%.3f' %(score))\n",
    "print(\"TEST SET ACCURACY: \", '%.3f' %(score_a))"
   ]
  },
  {
   "cell_type": "code",
   "execution_count": 30,
   "metadata": {},
   "outputs": [
    {
     "name": "stdout",
     "output_type": "stream",
     "text": [
      "              precision    recall  f1-score   support\n",
      "\n",
      "           0       0.82      0.84      0.83      7750\n",
      "           1       0.72      0.69      0.71      4651\n",
      "\n",
      "    accuracy                           0.79     12401\n",
      "   macro avg       0.77      0.77      0.77     12401\n",
      "weighted avg       0.78      0.79      0.78     12401\n",
      "\n",
      "[[6529 1221]\n",
      " [1438 3213]]\n"
     ]
    }
   ],
   "source": [
    "# Metric evaluation\n",
    "import sklearn.metrics as metrics\n",
    "actual_y = y_test\n",
    "predicted_y = y_pred\n",
    "\n",
    "print(metrics.classification_report(actual_y, predicted_y))\n",
    "\n",
    "cf_matrix = confusion_matrix(y_test, y_pred)\n",
    "\n",
    "print(cf_matrix)"
   ]
  },
  {
   "cell_type": "code",
   "execution_count": 31,
   "metadata": {},
   "outputs": [
    {
     "data": {
      "image/png": "[encoded data removed]",
      "text/plain": [
       "<Figure size 432x288 with 2 Axes>"
      ]
     },
     "metadata": {},
     "output_type": "display_data"
    }
   ],
   "source": [
    "# Plotting the confusion matrix\n",
    "from sklearn.metrics import plot_confusion_matrix\n",
    "plot_confusion_matrix(clf, X_test, y_test)\n",
    "plt.show()"
   ]
  },
  {
   "cell_type": "code",
   "execution_count": 32,
   "metadata": {},
   "outputs": [
    {
     "name": "stdout",
     "output_type": "stream",
     "text": [
      "[0.03908799 0.01738691 0.02642019 0.05741516 0.11119618 0.07890509\n",
      " 0.02090971 0.22507283 0.13771404 0.2472839  0.03860798]\n"
     ]
    },
    {
     "data": {
      "image/png": "[encoded data removed]",
      "text/plain": [
       "<Figure size 432x288 with 1 Axes>"
      ]
     },
     "metadata": {},
     "output_type": "display_data"
    }
   ],
   "source": [
    "# Addendum to and Error on the previous feature importance\n",
    "print(clf.feature_importances_)\n",
    "importances = clf.feature_importances_\n",
    "indices = np.argsort(importances)\n",
    "\n",
    "features = X_train.columns\n",
    "plt.title(\"Feature Importance\")\n",
    "plt.barh(range(len(indices)), importances[indices], color = 'skyblue', align = 'center')\n",
    "plt.yticks(range(len(indices)), [features[i] for i in indices])\n",
    "plt.xlabel(\"Relative Importance\")\n",
    "plt.show()"
   ]
  },
  {
   "cell_type": "markdown",
   "metadata": {},
   "source": [
    "### The above feature importance demonstrates features that played great for the attrition that were shown in the confusion matrix. Five of these features are shown with high number of Relative Importance. These are King's Landing, avg_rating_by_driver, iphone, ultimate_black_user, and weekday_pct."
   ]
  },
  {
   "cell_type": "code",
   "execution_count": null,
   "metadata": {},
   "outputs": [],
   "source": []
  }
 ],
 "metadata": {
  "kernelspec": {
   "display_name": "Python 3 (ipykernel)",
   "language": "python",
   "name": "python3"
  },
  "language_info": {
   "codemirror_mode": {
    "name": "ipython",
    "version": 3
   },
   "file_extension": ".py",
   "mimetype": "text/x-python",
   "name": "python",
   "nbconvert_exporter": "python",
   "pygments_lexer": "ipython3",
   "version": "3.9.7"
  }
 },
 "nbformat": 4,
 "nbformat_minor": 4
}
